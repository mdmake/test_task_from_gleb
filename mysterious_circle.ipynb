{
  "nbformat": 4,
  "nbformat_minor": 0,
  "metadata": {
    "colab": {
      "provenance": [],
      "collapsed_sections": [],
      "mount_file_id": "1UDbdrkEGN_OghGrK3pu0LksxAGsDazID",
      "authorship_tag": "ABX9TyNnukWLpuX+JZnEhLpB/AO4",
      "include_colab_link": true
    },
    "kernelspec": {
      "name": "python3",
      "display_name": "Python 3"
    },
    "language_info": {
      "name": "python"
    }
  },
  "cells": [
    {
      "cell_type": "markdown",
      "metadata": {
        "id": "view-in-github",
        "colab_type": "text"
      },
      "source": [
        "<a href=\"https://colab.research.google.com/github/mdmake/test_task_from_gleb/blob/main/mysterious_circle.ipynb\" target=\"_parent\"><img src=\"https://colab.research.google.com/assets/colab-badge.svg\" alt=\"Open In Colab\"/></a>"
      ]
    },
    {
      "cell_type": "code",
      "execution_count": 1,
      "metadata": {
        "id": "eBduSLCao2uc"
      },
      "outputs": [],
      "source": [
        "import pandas as pd\n",
        "import numpy as np\n",
        "\n",
        "from sklearn.metrics import roc_auc_score"
      ]
    },
    {
      "cell_type": "code",
      "source": [
        "!pip install catboost"
      ],
      "metadata": {
        "id": "ioEXOOWL1frn"
      },
      "execution_count": null,
      "outputs": []
    },
    {
      "cell_type": "code",
      "source": [
        "from catboost import CatBoostClassifier"
      ],
      "metadata": {
        "id": "NZIfug5q1gH-"
      },
      "execution_count": null,
      "outputs": []
    },
    {
      "cell_type": "code",
      "source": [
        "df = pd.read_csv('/content/drive/MyDrive/Colab Notebooks/data/dataset.csv')"
      ],
      "metadata": {
        "id": "LOYVGX1hskJf"
      },
      "execution_count": 3,
      "outputs": []
    },
    {
      "cell_type": "code",
      "source": [
        "df.isna().mean()"
      ],
      "metadata": {
        "colab": {
          "base_uri": "https://localhost:8080/"
        },
        "id": "vRnslSfXuJDt",
        "outputId": "9cfcf691-4cf6-4f1b-bbb1-9d22e3cc5c6c"
      },
      "execution_count": 5,
      "outputs": [
        {
          "output_type": "execute_result",
          "data": {
            "text/plain": [
              "feature_1    0.0\n",
              "feature_2    0.0\n",
              "feature_3    0.0\n",
              "feature_4    0.0\n",
              "feature_5    0.0\n",
              "target       0.0\n",
              "dtype: float64"
            ]
          },
          "metadata": {},
          "execution_count": 5
        }
      ]
    },
    {
      "cell_type": "code",
      "source": [
        "df.info()"
      ],
      "metadata": {
        "colab": {
          "base_uri": "https://localhost:8080/"
        },
        "id": "4pJx5T9wuXCB",
        "outputId": "1c654e68-53ab-498e-ce88-de128ee61938"
      },
      "execution_count": 6,
      "outputs": [
        {
          "output_type": "stream",
          "name": "stdout",
          "text": [
            "<class 'pandas.core.frame.DataFrame'>\n",
            "RangeIndex: 3000 entries, 0 to 2999\n",
            "Data columns (total 6 columns):\n",
            " #   Column     Non-Null Count  Dtype  \n",
            "---  ------     --------------  -----  \n",
            " 0   feature_1  3000 non-null   float64\n",
            " 1   feature_2  3000 non-null   float64\n",
            " 2   feature_3  3000 non-null   float64\n",
            " 3   feature_4  3000 non-null   float64\n",
            " 4   feature_5  3000 non-null   float64\n",
            " 5   target     3000 non-null   int64  \n",
            "dtypes: float64(5), int64(1)\n",
            "memory usage: 140.8 KB\n"
          ]
        }
      ]
    },
    {
      "cell_type": "code",
      "source": [
        "df['target'].mean()"
      ],
      "metadata": {
        "colab": {
          "base_uri": "https://localhost:8080/"
        },
        "id": "GDOnF9HZua6d",
        "outputId": "234ac534-f85c-4304-dfe6-fc33dee98fea"
      },
      "execution_count": 7,
      "outputs": [
        {
          "output_type": "execute_result",
          "data": {
            "text/plain": [
              "0.6"
            ]
          },
          "metadata": {},
          "execution_count": 7
        }
      ]
    },
    {
      "cell_type": "code",
      "source": [
        "train = df.sample(frac=0.7, random_state=42).copy()"
      ],
      "metadata": {
        "id": "jgwFpFCtuiwK"
      },
      "execution_count": 10,
      "outputs": []
    },
    {
      "cell_type": "code",
      "source": [
        "test = df[~df.index.isin(train.index)].copy()"
      ],
      "metadata": {
        "id": "qP5CvkybuynU"
      },
      "execution_count": 11,
      "outputs": []
    },
    {
      "cell_type": "code",
      "source": [
        "len(test), len(train)"
      ],
      "metadata": {
        "colab": {
          "base_uri": "https://localhost:8080/"
        },
        "id": "2SNkbQlvu9wz",
        "outputId": "f39a8f66-4604-468d-ef10-a4c5e3684914"
      },
      "execution_count": 12,
      "outputs": [
        {
          "output_type": "execute_result",
          "data": {
            "text/plain": [
              "(900, 2100)"
            ]
          },
          "metadata": {},
          "execution_count": 12
        }
      ]
    },
    {
      "cell_type": "code",
      "source": [
        "train['target'].mean(), test['target'].mean()"
      ],
      "metadata": {
        "colab": {
          "base_uri": "https://localhost:8080/"
        },
        "id": "-dJunugGvZX_",
        "outputId": "dc6bfd56-9c0f-4190-90fd-cea52f2a2dd5"
      },
      "execution_count": 15,
      "outputs": [
        {
          "output_type": "execute_result",
          "data": {
            "text/plain": [
              "(0.5933333333333334, 0.6155555555555555)"
            ]
          },
          "metadata": {},
          "execution_count": 15
        }
      ]
    },
    {
      "cell_type": "code",
      "source": [
        "df.columns"
      ],
      "metadata": {
        "colab": {
          "base_uri": "https://localhost:8080/"
        },
        "id": "2PGq3Ne7veQC",
        "outputId": "30013152-9bdd-4778-a46f-a922c699e4e5"
      },
      "execution_count": 17,
      "outputs": [
        {
          "output_type": "execute_result",
          "data": {
            "text/plain": [
              "Index(['feature_1', 'feature_2', 'feature_3', 'feature_4', 'feature_5',\n",
              "       'target'],\n",
              "      dtype='object')"
            ]
          },
          "metadata": {},
          "execution_count": 17
        }
      ]
    },
    {
      "cell_type": "code",
      "source": [
        "X_col = ['feature_1', 'feature_2', 'feature_3', 'feature_4', 'feature_5',]\n",
        "y_col = ['target']"
      ],
      "metadata": {
        "id": "IN3F2ALmvqjq"
      },
      "execution_count": 18,
      "outputs": []
    },
    {
      "cell_type": "code",
      "source": [
        "train_ = train.sample(frac=0.7,random_state=42).copy()\n",
        "val = train[~train.index.isin(train_.index)]"
      ],
      "metadata": {
        "id": "mD7EP0Bcv53i"
      },
      "execution_count": 20,
      "outputs": []
    },
    {
      "cell_type": "code",
      "source": [
        "train_.shape, val.shape, train_['target'].mean(), val['target'].mean(), "
      ],
      "metadata": {
        "colab": {
          "base_uri": "https://localhost:8080/"
        },
        "id": "BmXckgQnv552",
        "outputId": "2b5f18a7-b8c1-4505-cbcc-9e77e0b2cf8a"
      },
      "execution_count": 24,
      "outputs": [
        {
          "output_type": "execute_result",
          "data": {
            "text/plain": [
              "((1470, 6), (630, 6), 0.5918367346938775, 0.5968253968253968)"
            ]
          },
          "metadata": {},
          "execution_count": 24
        }
      ]
    },
    {
      "cell_type": "code",
      "source": [
        "model = CatBoostClassifier(verbose=100, eval_metric='AUC')"
      ],
      "metadata": {
        "id": "ycZ4D5L9v58M"
      },
      "execution_count": 30,
      "outputs": []
    },
    {
      "cell_type": "code",
      "source": [
        "model.fit(train_[X_col], train_[y_col], eval_set=(val[X_col], val[y_col]))"
      ],
      "metadata": {
        "colab": {
          "base_uri": "https://localhost:8080/"
        },
        "id": "MnQ1-75Mv5-j",
        "outputId": "296ed816-43c2-4444-be76-079274b736e2"
      },
      "execution_count": 31,
      "outputs": [
        {
          "output_type": "stream",
          "name": "stdout",
          "text": [
            "Learning rate set to 0.034853\n",
            "0:\ttest: 0.4955604\tbest: 0.4955604 (0)\ttotal: 58.5ms\tremaining: 58.4s\n",
            "100:\ttest: 0.4956965\tbest: 0.5055809 (62)\ttotal: 985ms\tremaining: 8.76s\n",
            "200:\ttest: 0.5019580\tbest: 0.5055809 (62)\ttotal: 1.74s\tremaining: 6.9s\n",
            "300:\ttest: 0.5028795\tbest: 0.5057485 (237)\ttotal: 2.53s\tremaining: 5.88s\n",
            "400:\ttest: 0.5055809\tbest: 0.5070573 (388)\ttotal: 3.15s\tremaining: 4.7s\n",
            "500:\ttest: 0.5037799\tbest: 0.5070573 (388)\ttotal: 3.96s\tremaining: 3.94s\n",
            "600:\ttest: 0.5052040\tbest: 0.5070573 (388)\ttotal: 4.69s\tremaining: 3.11s\n",
            "700:\ttest: 0.5037171\tbest: 0.5070573 (388)\ttotal: 5.54s\tremaining: 2.36s\n",
            "800:\ttest: 0.5062406\tbest: 0.5088059 (755)\ttotal: 6.08s\tremaining: 1.51s\n",
            "900:\ttest: 0.5067118\tbest: 0.5088059 (755)\ttotal: 6.32s\tremaining: 694ms\n",
            "999:\ttest: 0.5093085\tbest: 0.5104394 (978)\ttotal: 6.55s\tremaining: 0us\n",
            "\n",
            "bestTest = 0.5104393533\n",
            "bestIteration = 978\n",
            "\n",
            "Shrink model to first 979 iterations.\n"
          ]
        },
        {
          "output_type": "execute_result",
          "data": {
            "text/plain": [
              "<catboost.core.CatBoostClassifier at 0x7f036517b690>"
            ]
          },
          "metadata": {},
          "execution_count": 31
        }
      ]
    },
    {
      "cell_type": "code",
      "source": [
        "test['y_score'] = model.predict_proba(test[X_col])[:,1]"
      ],
      "metadata": {
        "id": "4lW2hW_wv6Aq"
      },
      "execution_count": 34,
      "outputs": []
    },
    {
      "cell_type": "code",
      "source": [
        "roc_auc_score(test['target'], test['y_score'])"
      ],
      "metadata": {
        "colab": {
          "base_uri": "https://localhost:8080/"
        },
        "id": "X4wvQlHUz4hW",
        "outputId": "3af29bcf-b98c-4531-cc90-743e50cb5ea9"
      },
      "execution_count": 36,
      "outputs": [
        {
          "output_type": "execute_result",
          "data": {
            "text/plain": [
              "0.510355585234031"
            ]
          },
          "metadata": {},
          "execution_count": 36
        }
      ]
    },
    {
      "cell_type": "code",
      "source": [],
      "metadata": {
        "id": "LQNZWgTXz_KH"
      },
      "execution_count": null,
      "outputs": []
    }
  ]
}